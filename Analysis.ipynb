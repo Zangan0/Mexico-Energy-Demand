{
 "cells": [
  {
   "cell_type": "code",
   "execution_count": null,
   "id": "360fcb41-76d9-4583-9a99-8ca785774d02",
   "metadata": {},
   "outputs": [],
   "source": []
  }
 ],
 "metadata": {
  "kernelspec": {
   "display_name": "",
   "name": ""
  },
  "language_info": {
   "name": ""
  }
 },
 "nbformat": 4,
 "nbformat_minor": 5
}
