{
 "cells": [
  {
   "cell_type": "markdown",
   "id": "f43a8ddb-9d6f-4ce9-ae2e-ab6efcd7d094",
   "metadata": {},
   "source": [
    "# 📊 Mexico Electricity Demand Analysis (2023–2025)\n",
    "\n",
    "**Author:** Diego Ramírez  \n",
    "**Date:** July 2025  \n",
    "**Description:**  \n",
    "This notebook explores hourly electricity demand patterns in Mexico using public data. We analyze temporal trends, visualize seasonality, and extract actionable insights useful for forecasting and grid planning.\n",
    "\n",
    "**Tools:** pandas, matplotlib, seaborn, numpy  \n",
    "**Data:** SVs downloaded from CENACE: https://www.cenace.gob.mx/Paginas/SIM/Reportes/EstimacionDemandaReal.aspx"
   ]
  },
  {
   "cell_type": "markdown",
   "id": "37b91f78-3560-4233-9561-49a35a485dd6",
   "metadata": {},
   "source": [
    "## 0. ⚙️ Imports"
   ]
  },
  {
   "cell_type": "code",
   "execution_count": 1,
   "id": "efb38cca-8c4e-4ae5-99ee-2a23b2054694",
   "metadata": {},
   "outputs": [],
   "source": [
    "import os\n",
    "import glob\n",
    "\n",
    "import numpy as np\n",
    "import pandas as pd\n",
    "import matplotlib.pyplot as plt\n",
    "import seaborn as sns\n",
    "from tqdm.notebook import tqdm"
   ]
  },
  {
   "cell_type": "markdown",
   "id": "bc4b3a7e-3570-4d4b-bbaa-cd9b20c8857d",
   "metadata": {},
   "source": [
    "## 1. 📥 Data Loading\n",
    "\n",
    "We begin by loading the full dataset from CSV files, parsing date columns, and checking the overall shape and structure."
   ]
  },
  {
   "cell_type": "code",
   "execution_count": 2,
   "id": "be403a26-29fd-4c9e-96c5-07b543a2566b",
   "metadata": {},
   "outputs": [
    {
     "data": {
      "text/html": [
       "<div>\n",
       "<style scoped>\n",
       "    .dataframe tbody tr th:only-of-type {\n",
       "        vertical-align: middle;\n",
       "    }\n",
       "\n",
       "    .dataframe tbody tr th {\n",
       "        vertical-align: top;\n",
       "    }\n",
       "\n",
       "    .dataframe thead th {\n",
       "        text-align: right;\n",
       "    }\n",
       "</style>\n",
       "<table border=\"1\" class=\"dataframe\">\n",
       "  <thead>\n",
       "    <tr style=\"text-align: right;\">\n",
       "      <th></th>\n",
       "      <th>Sistema</th>\n",
       "      <th>Area</th>\n",
       "      <th>Hora</th>\n",
       "      <th>Generacion (MWh)</th>\n",
       "      <th>Importacion Total (MWh)</th>\n",
       "      <th>Exportacion Total (MWh)</th>\n",
       "      <th>Intercambio neto entre Gerencias (MWh)</th>\n",
       "      <th>Estimacion de Demanda por Balance (MWh)</th>\n",
       "    </tr>\n",
       "  </thead>\n",
       "  <tbody>\n",
       "    <tr>\n",
       "      <th>0</th>\n",
       "      <td>BCA</td>\n",
       "      <td>BCA</td>\n",
       "      <td>1</td>\n",
       "      <td>1036.03252</td>\n",
       "      <td>22.10174</td>\n",
       "      <td>20.97918</td>\n",
       "      <td>---</td>\n",
       "      <td>1037.15508</td>\n",
       "    </tr>\n",
       "    <tr>\n",
       "      <th>1</th>\n",
       "      <td>BCA</td>\n",
       "      <td>BCA</td>\n",
       "      <td>2</td>\n",
       "      <td>1027.37909</td>\n",
       "      <td>43.79153</td>\n",
       "      <td>44.91889</td>\n",
       "      <td>---</td>\n",
       "      <td>1026.25173</td>\n",
       "    </tr>\n",
       "    <tr>\n",
       "      <th>2</th>\n",
       "      <td>BCA</td>\n",
       "      <td>BCA</td>\n",
       "      <td>3</td>\n",
       "      <td>1042.72685</td>\n",
       "      <td>51.27296</td>\n",
       "      <td>46.05216</td>\n",
       "      <td>---</td>\n",
       "      <td>1047.94764</td>\n",
       "    </tr>\n",
       "    <tr>\n",
       "      <th>3</th>\n",
       "      <td>BCA</td>\n",
       "      <td>BCA</td>\n",
       "      <td>4</td>\n",
       "      <td>1022.79761</td>\n",
       "      <td>55.63775</td>\n",
       "      <td>55.51087</td>\n",
       "      <td>---</td>\n",
       "      <td>1022.92449</td>\n",
       "    </tr>\n",
       "    <tr>\n",
       "      <th>4</th>\n",
       "      <td>BCA</td>\n",
       "      <td>BCA</td>\n",
       "      <td>5</td>\n",
       "      <td>1001.48521</td>\n",
       "      <td>65.39402</td>\n",
       "      <td>70.70259</td>\n",
       "      <td>---</td>\n",
       "      <td>996.17664</td>\n",
       "    </tr>\n",
       "  </tbody>\n",
       "</table>\n",
       "</div>"
      ],
      "text/plain": [
       "  Sistema  Area   Hora   Generacion (MWh)   Importacion Total (MWh)  \\\n",
       "0     BCA   BCA      1         1036.03252                  22.10174   \n",
       "1     BCA   BCA      2         1027.37909                  43.79153   \n",
       "2     BCA   BCA      3         1042.72685                  51.27296   \n",
       "3     BCA   BCA      4         1022.79761                  55.63775   \n",
       "4     BCA   BCA      5         1001.48521                  65.39402   \n",
       "\n",
       "    Exportacion Total (MWh)  Intercambio neto entre Gerencias (MWh)  \\\n",
       "0                  20.97918                                     ---   \n",
       "1                  44.91889                                     ---   \n",
       "2                  46.05216                                     ---   \n",
       "3                  55.51087                                     ---   \n",
       "4                  70.70259                                     ---   \n",
       "\n",
       "    Estimacion de Demanda por Balance (MWh)   \n",
       "0                                 1037.15508  \n",
       "1                                 1026.25173  \n",
       "2                                 1047.94764  \n",
       "3                                 1022.92449  \n",
       "4                                  996.17664  "
      ]
     },
     "execution_count": 2,
     "metadata": {},
     "output_type": "execute_result"
    }
   ],
   "source": [
    "# Files have 8 rows at the top that we must skip, since the dataset starts at row 9.\n",
    "\n",
    "df_sample = pd.read_csv(\"./data/raw_data/Demanda Real Balance_0_v3 Dia Operacion 2023-01-01 v2023 01 15_12 25 01.csv\", skiprows=8)\n",
    "df_sample.head()"
   ]
  },
  {
   "cell_type": "code",
   "execution_count": 3,
   "id": "f86b33a3-cfce-48b1-99b3-b3b0fe5b7d0e",
   "metadata": {},
   "outputs": [
    {
     "name": "stdout",
     "output_type": "stream",
     "text": [
      "<class 'pandas.core.frame.DataFrame'>\n",
      "RangeIndex: 216 entries, 0 to 215\n",
      "Data columns (total 8 columns):\n",
      " #   Column                                     Non-Null Count  Dtype  \n",
      "---  ------                                     --------------  -----  \n",
      " 0   Sistema                                    216 non-null    object \n",
      " 1    Area                                      216 non-null    object \n",
      " 2    Hora                                      216 non-null    int64  \n",
      " 3    Generacion (MWh)                          216 non-null    float64\n",
      " 4    Importacion Total (MWh)                   216 non-null    float64\n",
      " 5    Exportacion Total (MWh)                   216 non-null    float64\n",
      " 6    Intercambio neto entre Gerencias (MWh)    216 non-null    object \n",
      " 7    Estimacion de Demanda por Balance (MWh)   216 non-null    float64\n",
      "dtypes: float64(4), int64(1), object(3)\n",
      "memory usage: 13.6+ KB\n"
     ]
    }
   ],
   "source": [
    "df_sample.info()"
   ]
  },
  {
   "cell_type": "markdown",
   "id": "f61a6b19-1f00-4d73-9c89-2ba4fa4e59b7",
   "metadata": {},
   "source": [
    "Data is clean and structured, but there are some initial concerns to consider for when the full data is consolidated into one big dataset:\n",
    "* No date column, will probably have to add it via the file name.\n",
    "* Change \"---\" to np.nan in Intercambio neto entre Gerencias"
   ]
  },
  {
   "cell_type": "code",
   "execution_count": 4,
   "id": "fcbe6c7f-507f-476e-b968-d268a92a07af",
   "metadata": {},
   "outputs": [
    {
     "name": "stdout",
     "output_type": "stream",
     "text": [
      "Found 3548 CSV files\n"
     ]
    }
   ],
   "source": [
    "DATA_FOLDER = \"./data/raw_data/\"\n",
    "\n",
    "csv_files = glob.glob(os.path.join(DATA_FOLDER, \"*.csv\"))\n",
    "print(f\"Found {len(csv_files)} CSV files\")"
   ]
  },
  {
   "cell_type": "code",
   "execution_count": 6,
   "id": "90ae57bb-7959-4760-97eb-1eab2b103725",
   "metadata": {},
   "outputs": [
    {
     "data": {
      "text/html": [
       "<div>\n",
       "<style scoped>\n",
       "    .dataframe tbody tr th:only-of-type {\n",
       "        vertical-align: middle;\n",
       "    }\n",
       "\n",
       "    .dataframe tbody tr th {\n",
       "        vertical-align: top;\n",
       "    }\n",
       "\n",
       "    .dataframe thead th {\n",
       "        text-align: right;\n",
       "    }\n",
       "</style>\n",
       "<table border=\"1\" class=\"dataframe\">\n",
       "  <thead>\n",
       "    <tr style=\"text-align: right;\">\n",
       "      <th></th>\n",
       "      <th>Sistema</th>\n",
       "      <th>Area</th>\n",
       "      <th>Hora</th>\n",
       "      <th>Generacion (MWh)</th>\n",
       "      <th>Importacion Total (MWh)</th>\n",
       "      <th>Exportacion Total (MWh)</th>\n",
       "      <th>Intercambio neto entre Gerencias (MWh)</th>\n",
       "      <th>Estimacion de Demanda por Balance (MWh)</th>\n",
       "      <th>file_name</th>\n",
       "    </tr>\n",
       "  </thead>\n",
       "  <tbody>\n",
       "    <tr>\n",
       "      <th>0</th>\n",
       "      <td>BCA</td>\n",
       "      <td>BCA</td>\n",
       "      <td>1</td>\n",
       "      <td>1036.03252</td>\n",
       "      <td>22.10174</td>\n",
       "      <td>20.97918</td>\n",
       "      <td>---</td>\n",
       "      <td>1037.15508</td>\n",
       "      <td>Demanda Real Balance_0_v3 Dia Operacion 2023-0...</td>\n",
       "    </tr>\n",
       "    <tr>\n",
       "      <th>1</th>\n",
       "      <td>BCA</td>\n",
       "      <td>BCA</td>\n",
       "      <td>2</td>\n",
       "      <td>1027.37909</td>\n",
       "      <td>43.79153</td>\n",
       "      <td>44.91889</td>\n",
       "      <td>---</td>\n",
       "      <td>1026.25173</td>\n",
       "      <td>Demanda Real Balance_0_v3 Dia Operacion 2023-0...</td>\n",
       "    </tr>\n",
       "    <tr>\n",
       "      <th>2</th>\n",
       "      <td>BCA</td>\n",
       "      <td>BCA</td>\n",
       "      <td>3</td>\n",
       "      <td>1042.72685</td>\n",
       "      <td>51.27296</td>\n",
       "      <td>46.05216</td>\n",
       "      <td>---</td>\n",
       "      <td>1047.94764</td>\n",
       "      <td>Demanda Real Balance_0_v3 Dia Operacion 2023-0...</td>\n",
       "    </tr>\n",
       "    <tr>\n",
       "      <th>3</th>\n",
       "      <td>BCA</td>\n",
       "      <td>BCA</td>\n",
       "      <td>4</td>\n",
       "      <td>1022.79761</td>\n",
       "      <td>55.63775</td>\n",
       "      <td>55.51087</td>\n",
       "      <td>---</td>\n",
       "      <td>1022.92449</td>\n",
       "      <td>Demanda Real Balance_0_v3 Dia Operacion 2023-0...</td>\n",
       "    </tr>\n",
       "    <tr>\n",
       "      <th>4</th>\n",
       "      <td>BCA</td>\n",
       "      <td>BCA</td>\n",
       "      <td>5</td>\n",
       "      <td>1001.48521</td>\n",
       "      <td>65.39402</td>\n",
       "      <td>70.70259</td>\n",
       "      <td>---</td>\n",
       "      <td>996.17664</td>\n",
       "      <td>Demanda Real Balance_0_v3 Dia Operacion 2023-0...</td>\n",
       "    </tr>\n",
       "  </tbody>\n",
       "</table>\n",
       "</div>"
      ],
      "text/plain": [
       "  Sistema  Area   Hora   Generacion (MWh)   Importacion Total (MWh)  \\\n",
       "0     BCA   BCA      1         1036.03252                  22.10174   \n",
       "1     BCA   BCA      2         1027.37909                  43.79153   \n",
       "2     BCA   BCA      3         1042.72685                  51.27296   \n",
       "3     BCA   BCA      4         1022.79761                  55.63775   \n",
       "4     BCA   BCA      5         1001.48521                  65.39402   \n",
       "\n",
       "    Exportacion Total (MWh)  Intercambio neto entre Gerencias (MWh)  \\\n",
       "0                  20.97918                                     ---   \n",
       "1                  44.91889                                     ---   \n",
       "2                  46.05216                                     ---   \n",
       "3                  55.51087                                     ---   \n",
       "4                  70.70259                                     ---   \n",
       "\n",
       "    Estimacion de Demanda por Balance (MWh)   \\\n",
       "0                                 1037.15508   \n",
       "1                                 1026.25173   \n",
       "2                                 1047.94764   \n",
       "3                                 1022.92449   \n",
       "4                                  996.17664   \n",
       "\n",
       "                                           file_name  \n",
       "0  Demanda Real Balance_0_v3 Dia Operacion 2023-0...  \n",
       "1  Demanda Real Balance_0_v3 Dia Operacion 2023-0...  \n",
       "2  Demanda Real Balance_0_v3 Dia Operacion 2023-0...  \n",
       "3  Demanda Real Balance_0_v3 Dia Operacion 2023-0...  \n",
       "4  Demanda Real Balance_0_v3 Dia Operacion 2023-0...  "
      ]
     },
     "execution_count": 6,
     "metadata": {},
     "output_type": "execute_result"
    }
   ],
   "source": [
    "df_sample = pd.read_csv(csv_files[0], skiprows=8)\n",
    "df_sample[\"file_name\"] = os.path.basename(csv_files[0])\n",
    "df_sample.head()"
   ]
  },
  {
   "cell_type": "code",
   "execution_count": 7,
   "id": "2bde0270-595a-4985-88b0-d681ed56aea3",
   "metadata": {},
   "outputs": [
    {
     "data": {
      "application/vnd.jupyter.widget-view+json": {
       "model_id": "2aaf83433c7448678809ccde25c86684",
       "version_major": 2,
       "version_minor": 0
      },
      "text/plain": [
       "Reading CSVs:   0%|          | 0/3548 [00:00<?, ?it/s]"
      ]
     },
     "metadata": {},
     "output_type": "display_data"
    }
   ],
   "source": [
    "def add_file_name(path: str) -> pd.DataFrame:\n",
    "    # Reads the csv file from the path and adds a coulumn with the file name.\n",
    "    df = pd.read_csv(path, skiprows=8)\n",
    "    df[\"file_name\"] = os.path.basename(path)\n",
    "\n",
    "    return df\n",
    "\n",
    "all_dataframes = []\n",
    "\n",
    "for file in tqdm(csv_files, desc=\"Reading CSVs\"):\n",
    "    try:\n",
    "        df = add_file_name(file)\n",
    "        all_dataframes.append(df)\n",
    "    except Exception as e:\n",
    "        print(f\"Failed to read {file}: {e}\")"
   ]
  },
  {
   "cell_type": "code",
   "execution_count": 8,
   "id": "af5a1356-d32b-423f-be14-017eae76fceb",
   "metadata": {},
   "outputs": [
    {
     "name": "stdout",
     "output_type": "stream",
     "text": [
      "<class 'pandas.core.frame.DataFrame'>\n",
      "RangeIndex: 766364 entries, 0 to 766363\n",
      "Data columns (total 9 columns):\n",
      " #   Column                                     Non-Null Count   Dtype  \n",
      "---  ------                                     --------------   -----  \n",
      " 0   Sistema                                    766364 non-null  object \n",
      " 1    Area                                      766364 non-null  object \n",
      " 2    Hora                                      766364 non-null  int64  \n",
      " 3    Generacion (MWh)                          766364 non-null  float64\n",
      " 4    Importacion Total (MWh)                   766364 non-null  float64\n",
      " 5    Exportacion Total (MWh)                   766364 non-null  float64\n",
      " 6    Intercambio neto entre Gerencias (MWh)    766364 non-null  object \n",
      " 7    Estimacion de Demanda por Balance (MWh)   766364 non-null  float64\n",
      " 8   file_name                                  766364 non-null  object \n",
      "dtypes: float64(4), int64(1), object(4)\n",
      "memory usage: 52.6+ MB\n"
     ]
    }
   ],
   "source": [
    "full_df = pd.concat(all_dataframes, ignore_index=True)\n",
    "full_df.info()"
   ]
  },
  {
   "cell_type": "code",
   "execution_count": 10,
   "id": "2d8ba3ba-db76-453e-9204-aecf106bcb06",
   "metadata": {},
   "outputs": [
    {
     "data": {
      "text/plain": [
       "Index(['Sistema', ' Area', ' Hora', ' Generacion (MWh)',\n",
       "       ' Importacion Total (MWh)', ' Exportacion Total (MWh)',\n",
       "       ' Intercambio neto entre Gerencias (MWh)',\n",
       "       ' Estimacion de Demanda por Balance (MWh) ', 'file_name'],\n",
       "      dtype='object')"
      ]
     },
     "execution_count": 10,
     "metadata": {},
     "output_type": "execute_result"
    }
   ],
   "source": [
    "full_df.columns"
   ]
  },
  {
   "cell_type": "code",
   "execution_count": 25,
   "id": "ce277e9c-a392-44f0-a35c-6e2a99697f6e",
   "metadata": {},
   "outputs": [],
   "source": [
    "full_df.rename(columns={\n",
    "    \"Sistema\": \"System\",\n",
    "    \" Area\": \"Area\",\n",
    "    \" Hora\": \"Hour\",\n",
    "    \" Generacion (MWh)\": \"Generation (MWh)\",\n",
    "    \" Importacion Total (MWh)\": \"Total Imports (MWh)\",\n",
    "    \" Exportacion Total (MWh)\": \"Total Exports (MWh)\",\n",
    "    \" Intercambio neto entre Gerencias (MWh)\": \"Net Exchange Between Regional Control Centers (MWh)\",\n",
    "    \" Estimacion de Demanda por Balance (MWh) \": \"Estimated Demand by Energy Balance (MWh)\",},\n",
    "              inplace=True)"
   ]
  },
  {
   "cell_type": "code",
   "execution_count": 26,
   "id": "51ade947-0762-41ed-bf93-493523547ac0",
   "metadata": {},
   "outputs": [
    {
     "data": {
      "text/plain": [
       "Index(['System', 'Area', 'Hour', 'Generation (MWh)', 'Total Imports (MWh)',\n",
       "       'Total Exports (MWh)',\n",
       "       'Net Exchange Between Regional Control Centers (MWh)',\n",
       "       'Estimated Demand by Energy Balance (MWh)', 'file_name',\n",
       "       'Operation Date'],\n",
       "      dtype='object')"
      ]
     },
     "execution_count": 26,
     "metadata": {},
     "output_type": "execute_result"
    }
   ],
   "source": [
    "full_df.columns"
   ]
  },
  {
   "cell_type": "code",
   "execution_count": 27,
   "id": "83c151c6-9452-4d1b-ae7f-3b579408904b",
   "metadata": {},
   "outputs": [
    {
     "data": {
      "text/html": [
       "<div>\n",
       "<style scoped>\n",
       "    .dataframe tbody tr th:only-of-type {\n",
       "        vertical-align: middle;\n",
       "    }\n",
       "\n",
       "    .dataframe tbody tr th {\n",
       "        vertical-align: top;\n",
       "    }\n",
       "\n",
       "    .dataframe thead th {\n",
       "        text-align: right;\n",
       "    }\n",
       "</style>\n",
       "<table border=\"1\" class=\"dataframe\">\n",
       "  <thead>\n",
       "    <tr style=\"text-align: right;\">\n",
       "      <th></th>\n",
       "      <th>System</th>\n",
       "      <th>Area</th>\n",
       "      <th>Hour</th>\n",
       "      <th>Generation (MWh)</th>\n",
       "      <th>Total Imports (MWh)</th>\n",
       "      <th>Total Exports (MWh)</th>\n",
       "      <th>Net Exchange Between Regional Control Centers (MWh)</th>\n",
       "      <th>Estimated Demand by Energy Balance (MWh)</th>\n",
       "      <th>file_name</th>\n",
       "      <th>Operation Date</th>\n",
       "    </tr>\n",
       "  </thead>\n",
       "  <tbody>\n",
       "    <tr>\n",
       "      <th>0</th>\n",
       "      <td>BCA</td>\n",
       "      <td>BCA</td>\n",
       "      <td>1</td>\n",
       "      <td>1036.03252</td>\n",
       "      <td>22.10174</td>\n",
       "      <td>20.97918</td>\n",
       "      <td>---</td>\n",
       "      <td>1037.15508</td>\n",
       "      <td>Demanda Real Balance_0_v3 Dia Operacion 2023-0...</td>\n",
       "      <td>2023-01-01</td>\n",
       "    </tr>\n",
       "    <tr>\n",
       "      <th>1</th>\n",
       "      <td>BCA</td>\n",
       "      <td>BCA</td>\n",
       "      <td>2</td>\n",
       "      <td>1027.37909</td>\n",
       "      <td>43.79153</td>\n",
       "      <td>44.91889</td>\n",
       "      <td>---</td>\n",
       "      <td>1026.25173</td>\n",
       "      <td>Demanda Real Balance_0_v3 Dia Operacion 2023-0...</td>\n",
       "      <td>2023-01-01</td>\n",
       "    </tr>\n",
       "    <tr>\n",
       "      <th>2</th>\n",
       "      <td>BCA</td>\n",
       "      <td>BCA</td>\n",
       "      <td>3</td>\n",
       "      <td>1042.72685</td>\n",
       "      <td>51.27296</td>\n",
       "      <td>46.05216</td>\n",
       "      <td>---</td>\n",
       "      <td>1047.94764</td>\n",
       "      <td>Demanda Real Balance_0_v3 Dia Operacion 2023-0...</td>\n",
       "      <td>2023-01-01</td>\n",
       "    </tr>\n",
       "    <tr>\n",
       "      <th>3</th>\n",
       "      <td>BCA</td>\n",
       "      <td>BCA</td>\n",
       "      <td>4</td>\n",
       "      <td>1022.79761</td>\n",
       "      <td>55.63775</td>\n",
       "      <td>55.51087</td>\n",
       "      <td>---</td>\n",
       "      <td>1022.92449</td>\n",
       "      <td>Demanda Real Balance_0_v3 Dia Operacion 2023-0...</td>\n",
       "      <td>2023-01-01</td>\n",
       "    </tr>\n",
       "    <tr>\n",
       "      <th>4</th>\n",
       "      <td>BCA</td>\n",
       "      <td>BCA</td>\n",
       "      <td>5</td>\n",
       "      <td>1001.48521</td>\n",
       "      <td>65.39402</td>\n",
       "      <td>70.70259</td>\n",
       "      <td>---</td>\n",
       "      <td>996.17664</td>\n",
       "      <td>Demanda Real Balance_0_v3 Dia Operacion 2023-0...</td>\n",
       "      <td>2023-01-01</td>\n",
       "    </tr>\n",
       "  </tbody>\n",
       "</table>\n",
       "</div>"
      ],
      "text/plain": [
       "  System Area  Hour  Generation (MWh)  Total Imports (MWh)  \\\n",
       "0    BCA  BCA     1        1036.03252             22.10174   \n",
       "1    BCA  BCA     2        1027.37909             43.79153   \n",
       "2    BCA  BCA     3        1042.72685             51.27296   \n",
       "3    BCA  BCA     4        1022.79761             55.63775   \n",
       "4    BCA  BCA     5        1001.48521             65.39402   \n",
       "\n",
       "   Total Exports (MWh) Net Exchange Between Regional Control Centers (MWh)  \\\n",
       "0             20.97918                                                ---    \n",
       "1             44.91889                                                ---    \n",
       "2             46.05216                                                ---    \n",
       "3             55.51087                                                ---    \n",
       "4             70.70259                                                ---    \n",
       "\n",
       "   Estimated Demand by Energy Balance (MWh)  \\\n",
       "0                                1037.15508   \n",
       "1                                1026.25173   \n",
       "2                                1047.94764   \n",
       "3                                1022.92449   \n",
       "4                                 996.17664   \n",
       "\n",
       "                                           file_name Operation Date  \n",
       "0  Demanda Real Balance_0_v3 Dia Operacion 2023-0...     2023-01-01  \n",
       "1  Demanda Real Balance_0_v3 Dia Operacion 2023-0...     2023-01-01  \n",
       "2  Demanda Real Balance_0_v3 Dia Operacion 2023-0...     2023-01-01  \n",
       "3  Demanda Real Balance_0_v3 Dia Operacion 2023-0...     2023-01-01  \n",
       "4  Demanda Real Balance_0_v3 Dia Operacion 2023-0...     2023-01-01  "
      ]
     },
     "execution_count": 27,
     "metadata": {},
     "output_type": "execute_result"
    }
   ],
   "source": [
    "full_df.head()"
   ]
  },
  {
   "cell_type": "code",
   "execution_count": 20,
   "id": "35f79ec2-b72a-42c5-bc69-5923de03c633",
   "metadata": {},
   "outputs": [
    {
     "data": {
      "text/plain": [
       "0         Demanda Real Balance_0_v3 Dia Operacion 2023-0...\n",
       "1         Demanda Real Balance_0_v3 Dia Operacion 2023-0...\n",
       "2         Demanda Real Balance_0_v3 Dia Operacion 2023-0...\n",
       "3         Demanda Real Balance_0_v3 Dia Operacion 2023-0...\n",
       "4         Demanda Real Balance_0_v3 Dia Operacion 2023-0...\n",
       "                                ...                        \n",
       "766359    Demanda Real Balance_4_v3 Dia Operacion 2023-0...\n",
       "766360    Demanda Real Balance_4_v3 Dia Operacion 2023-0...\n",
       "766361    Demanda Real Balance_4_v3 Dia Operacion 2023-0...\n",
       "766362    Demanda Real Balance_4_v3 Dia Operacion 2023-0...\n",
       "766363    Demanda Real Balance_4_v3 Dia Operacion 2023-0...\n",
       "Name: file_name, Length: 766364, dtype: object"
      ]
     },
     "execution_count": 20,
     "metadata": {},
     "output_type": "execute_result"
    }
   ],
   "source": [
    "full_df[\"file_name\"]"
   ]
  },
  {
   "cell_type": "code",
   "execution_count": 23,
   "id": "898033dc-c8f9-42e9-8121-48cdac28b3c4",
   "metadata": {},
   "outputs": [],
   "source": [
    "full_df[\"Operation Date\"] = full_df[\"file_name\"].str.extract(r\"Dia Operacion (\\d{4}-\\d{2}-\\d{2})\")\n",
    "full_df[\"Operation Date\"] = pd.to_datetime(full_df[\"Operation Date\"])"
   ]
  },
  {
   "cell_type": "code",
   "execution_count": 28,
   "id": "b7615597-ae91-4906-a6ef-2eff03dbe91d",
   "metadata": {},
   "outputs": [
    {
     "name": "stdout",
     "output_type": "stream",
     "text": [
      "<class 'pandas.core.frame.DataFrame'>\n",
      "RangeIndex: 766364 entries, 0 to 766363\n",
      "Data columns (total 10 columns):\n",
      " #   Column                                               Non-Null Count   Dtype         \n",
      "---  ------                                               --------------   -----         \n",
      " 0   System                                               766364 non-null  object        \n",
      " 1   Area                                                 766364 non-null  object        \n",
      " 2   Hour                                                 766364 non-null  int64         \n",
      " 3   Generation (MWh)                                     766364 non-null  float64       \n",
      " 4   Total Imports (MWh)                                  766364 non-null  float64       \n",
      " 5   Total Exports (MWh)                                  766364 non-null  float64       \n",
      " 6   Net Exchange Between Regional Control Centers (MWh)  766364 non-null  object        \n",
      " 7   Estimated Demand by Energy Balance (MWh)             766364 non-null  float64       \n",
      " 8   file_name                                            766364 non-null  object        \n",
      " 9   Operation Date                                       766364 non-null  datetime64[ns]\n",
      "dtypes: datetime64[ns](1), float64(4), int64(1), object(4)\n",
      "memory usage: 58.5+ MB\n"
     ]
    }
   ],
   "source": [
    "full_df.info()"
   ]
  },
  {
   "cell_type": "code",
   "execution_count": 36,
   "id": "4850a454-2b45-4eb7-a690-156e638a6985",
   "metadata": {},
   "outputs": [
    {
     "data": {
      "text/html": [
       "<div>\n",
       "<style scoped>\n",
       "    .dataframe tbody tr th:only-of-type {\n",
       "        vertical-align: middle;\n",
       "    }\n",
       "\n",
       "    .dataframe tbody tr th {\n",
       "        vertical-align: top;\n",
       "    }\n",
       "\n",
       "    .dataframe thead th {\n",
       "        text-align: right;\n",
       "    }\n",
       "</style>\n",
       "<table border=\"1\" class=\"dataframe\">\n",
       "  <thead>\n",
       "    <tr style=\"text-align: right;\">\n",
       "      <th></th>\n",
       "      <th>System</th>\n",
       "      <th>Area</th>\n",
       "      <th>Hour</th>\n",
       "      <th>Generation (MWh)</th>\n",
       "      <th>Total Imports (MWh)</th>\n",
       "      <th>Total Exports (MWh)</th>\n",
       "      <th>Net Exchange Between Regional Control Centers (MWh)</th>\n",
       "      <th>Estimated Demand by Energy Balance (MWh)</th>\n",
       "      <th>file_name</th>\n",
       "      <th>Operation Date</th>\n",
       "    </tr>\n",
       "  </thead>\n",
       "  <tbody>\n",
       "    <tr>\n",
       "      <th>0</th>\n",
       "      <td>BCA</td>\n",
       "      <td>BCA</td>\n",
       "      <td>1</td>\n",
       "      <td>1036.03252</td>\n",
       "      <td>22.10174</td>\n",
       "      <td>20.97918</td>\n",
       "      <td>NaN</td>\n",
       "      <td>1037.15508</td>\n",
       "      <td>Demanda Real Balance_0_v3 Dia Operacion 2023-0...</td>\n",
       "      <td>2023-01-01</td>\n",
       "    </tr>\n",
       "    <tr>\n",
       "      <th>1</th>\n",
       "      <td>BCA</td>\n",
       "      <td>BCA</td>\n",
       "      <td>2</td>\n",
       "      <td>1027.37909</td>\n",
       "      <td>43.79153</td>\n",
       "      <td>44.91889</td>\n",
       "      <td>NaN</td>\n",
       "      <td>1026.25173</td>\n",
       "      <td>Demanda Real Balance_0_v3 Dia Operacion 2023-0...</td>\n",
       "      <td>2023-01-01</td>\n",
       "    </tr>\n",
       "    <tr>\n",
       "      <th>2</th>\n",
       "      <td>BCA</td>\n",
       "      <td>BCA</td>\n",
       "      <td>3</td>\n",
       "      <td>1042.72685</td>\n",
       "      <td>51.27296</td>\n",
       "      <td>46.05216</td>\n",
       "      <td>NaN</td>\n",
       "      <td>1047.94764</td>\n",
       "      <td>Demanda Real Balance_0_v3 Dia Operacion 2023-0...</td>\n",
       "      <td>2023-01-01</td>\n",
       "    </tr>\n",
       "    <tr>\n",
       "      <th>3</th>\n",
       "      <td>BCA</td>\n",
       "      <td>BCA</td>\n",
       "      <td>4</td>\n",
       "      <td>1022.79761</td>\n",
       "      <td>55.63775</td>\n",
       "      <td>55.51087</td>\n",
       "      <td>NaN</td>\n",
       "      <td>1022.92449</td>\n",
       "      <td>Demanda Real Balance_0_v3 Dia Operacion 2023-0...</td>\n",
       "      <td>2023-01-01</td>\n",
       "    </tr>\n",
       "    <tr>\n",
       "      <th>4</th>\n",
       "      <td>BCA</td>\n",
       "      <td>BCA</td>\n",
       "      <td>5</td>\n",
       "      <td>1001.48521</td>\n",
       "      <td>65.39402</td>\n",
       "      <td>70.70259</td>\n",
       "      <td>NaN</td>\n",
       "      <td>996.17664</td>\n",
       "      <td>Demanda Real Balance_0_v3 Dia Operacion 2023-0...</td>\n",
       "      <td>2023-01-01</td>\n",
       "    </tr>\n",
       "  </tbody>\n",
       "</table>\n",
       "</div>"
      ],
      "text/plain": [
       "  System Area  Hour  Generation (MWh)  Total Imports (MWh)  \\\n",
       "0    BCA  BCA     1        1036.03252             22.10174   \n",
       "1    BCA  BCA     2        1027.37909             43.79153   \n",
       "2    BCA  BCA     3        1042.72685             51.27296   \n",
       "3    BCA  BCA     4        1022.79761             55.63775   \n",
       "4    BCA  BCA     5        1001.48521             65.39402   \n",
       "\n",
       "   Total Exports (MWh) Net Exchange Between Regional Control Centers (MWh)  \\\n",
       "0             20.97918                                                NaN    \n",
       "1             44.91889                                                NaN    \n",
       "2             46.05216                                                NaN    \n",
       "3             55.51087                                                NaN    \n",
       "4             70.70259                                                NaN    \n",
       "\n",
       "   Estimated Demand by Energy Balance (MWh)  \\\n",
       "0                                1037.15508   \n",
       "1                                1026.25173   \n",
       "2                                1047.94764   \n",
       "3                                1022.92449   \n",
       "4                                 996.17664   \n",
       "\n",
       "                                           file_name Operation Date  \n",
       "0  Demanda Real Balance_0_v3 Dia Operacion 2023-0...     2023-01-01  \n",
       "1  Demanda Real Balance_0_v3 Dia Operacion 2023-0...     2023-01-01  \n",
       "2  Demanda Real Balance_0_v3 Dia Operacion 2023-0...     2023-01-01  \n",
       "3  Demanda Real Balance_0_v3 Dia Operacion 2023-0...     2023-01-01  \n",
       "4  Demanda Real Balance_0_v3 Dia Operacion 2023-0...     2023-01-01  "
      ]
     },
     "execution_count": 36,
     "metadata": {},
     "output_type": "execute_result"
    }
   ],
   "source": [
    "full_df[\"Net Exchange Between Regional Control Centers (MWh)\"] = (\n",
    "    full_df[\"Net Exchange Between Regional Control Centers (MWh)\"].replace({\"               ---\": np.nan})\n",
    ")\n",
    "full_df.head()"
   ]
  },
  {
   "cell_type": "code",
   "execution_count": 38,
   "id": "f713f089-7d4d-40e3-9795-ecd70ebf1eae",
   "metadata": {},
   "outputs": [
    {
     "data": {
      "text/plain": [
       "array([nan, '        1400.85174', '        1384.45808', ...,\n",
       "       '         -2530.875', '          -2530.49', '         -2357.214'],\n",
       "      dtype=object)"
      ]
     },
     "execution_count": 38,
     "metadata": {},
     "output_type": "execute_result"
    }
   ],
   "source": [
    "full_df[\"Net Exchange Between Regional Control Centers (MWh)\"].unique()"
   ]
  },
  {
   "cell_type": "code",
   "execution_count": 39,
   "id": "a428dc80-eae7-4eda-bb7a-ec82690025f6",
   "metadata": {},
   "outputs": [
    {
     "name": "stdout",
     "output_type": "stream",
     "text": [
      "<class 'pandas.core.frame.DataFrame'>\n",
      "RangeIndex: 766364 entries, 0 to 766363\n",
      "Data columns (total 10 columns):\n",
      " #   Column                                               Non-Null Count   Dtype         \n",
      "---  ------                                               --------------   -----         \n",
      " 0   System                                               766364 non-null  object        \n",
      " 1   Area                                                 766364 non-null  object        \n",
      " 2   Hour                                                 766364 non-null  int64         \n",
      " 3   Generation (MWh)                                     766364 non-null  float64       \n",
      " 4   Total Imports (MWh)                                  766364 non-null  float64       \n",
      " 5   Total Exports (MWh)                                  766364 non-null  float64       \n",
      " 6   Net Exchange Between Regional Control Centers (MWh)  595896 non-null  object        \n",
      " 7   Estimated Demand by Energy Balance (MWh)             766364 non-null  float64       \n",
      " 8   file_name                                            766364 non-null  object        \n",
      " 9   Operation Date                                       766364 non-null  datetime64[ns]\n",
      "dtypes: datetime64[ns](1), float64(4), int64(1), object(4)\n",
      "memory usage: 58.5+ MB\n"
     ]
    }
   ],
   "source": [
    "full_df.info()"
   ]
  },
  {
   "cell_type": "code",
   "execution_count": 41,
   "id": "7f21179b-8b19-423b-b6ad-f820b1145d64",
   "metadata": {},
   "outputs": [
    {
     "name": "stdout",
     "output_type": "stream",
     "text": [
      "<class 'pandas.core.frame.DataFrame'>\n",
      "RangeIndex: 766364 entries, 0 to 766363\n",
      "Data columns (total 10 columns):\n",
      " #   Column                                               Non-Null Count   Dtype         \n",
      "---  ------                                               --------------   -----         \n",
      " 0   System                                               766364 non-null  object        \n",
      " 1   Area                                                 766364 non-null  object        \n",
      " 2   Hour                                                 766364 non-null  int64         \n",
      " 3   Generation (MWh)                                     766364 non-null  float64       \n",
      " 4   Total Imports (MWh)                                  766364 non-null  float64       \n",
      " 5   Total Exports (MWh)                                  766364 non-null  float64       \n",
      " 6   Net Exchange Between Regional Control Centers (MWh)  595896 non-null  object        \n",
      " 7   Estimated Demand by Energy Balance (MWh)             766364 non-null  float64       \n",
      " 8   file_name                                            766364 non-null  object        \n",
      " 9   Operation Date                                       766364 non-null  datetime64[ns]\n",
      "dtypes: datetime64[ns](1), float64(4), int64(1), object(4)\n",
      "memory usage: 58.5+ MB\n"
     ]
    }
   ],
   "source": [
    "full_df[\"Net Exchange Between Regional Control Centers (MWh)\"] = (\n",
    "    full_df[\"Net Exchange Between Regional Control Centers (MWh)\"].str.strip()\n",
    ")\n",
    "full_df.info()"
   ]
  },
  {
   "cell_type": "code",
   "execution_count": 46,
   "id": "12372f5f-131f-464f-b797-8ff02cf5e72f",
   "metadata": {},
   "outputs": [
    {
     "name": "stdout",
     "output_type": "stream",
     "text": [
      "<class 'pandas.core.frame.DataFrame'>\n",
      "RangeIndex: 766364 entries, 0 to 766363\n",
      "Data columns (total 10 columns):\n",
      " #   Column                                               Non-Null Count   Dtype         \n",
      "---  ------                                               --------------   -----         \n",
      " 0   System                                               766364 non-null  object        \n",
      " 1   Area                                                 766364 non-null  object        \n",
      " 2   Hour                                                 766364 non-null  int64         \n",
      " 3   Generation (MWh)                                     766364 non-null  float64       \n",
      " 4   Total Imports (MWh)                                  766364 non-null  float64       \n",
      " 5   Total Exports (MWh)                                  766364 non-null  float64       \n",
      " 6   Net Exchange Between Regional Control Centers (MWh)  595896 non-null  float64       \n",
      " 7   Estimated Demand by Energy Balance (MWh)             766364 non-null  float64       \n",
      " 8   file_name                                            766364 non-null  object        \n",
      " 9   Operation Date                                       766364 non-null  datetime64[ns]\n",
      "dtypes: datetime64[ns](1), float64(5), int64(1), object(3)\n",
      "memory usage: 58.5+ MB\n"
     ]
    }
   ],
   "source": [
    "full_df[\"Net Exchange Between Regional Control Centers (MWh)\"] = full_df[\"Net Exchange Between Regional Control Centers (MWh)\"].astype(float)\n",
    "full_df.info()"
   ]
  },
  {
   "cell_type": "code",
   "execution_count": 48,
   "id": "8265c6f0-371f-4444-a52f-39ad494857d5",
   "metadata": {},
   "outputs": [
    {
     "data": {
      "text/plain": [
       "array([ 1,  2,  3,  4,  5,  6,  7,  8,  9, 10, 11, 12, 13, 14, 15, 16, 17,\n",
       "       18, 19, 20, 21, 22, 23, 24, 25], dtype=int64)"
      ]
     },
     "execution_count": 48,
     "metadata": {},
     "output_type": "execute_result"
    }
   ],
   "source": [
    "full_df[\"Hour\"].unique()"
   ]
  },
  {
   "cell_type": "code",
   "execution_count": 49,
   "id": "dc8e1884-cea0-4c4c-a9e8-4b1135329055",
   "metadata": {},
   "outputs": [
    {
     "data": {
      "text/html": [
       "<div>\n",
       "<style scoped>\n",
       "    .dataframe tbody tr th:only-of-type {\n",
       "        vertical-align: middle;\n",
       "    }\n",
       "\n",
       "    .dataframe tbody tr th {\n",
       "        vertical-align: top;\n",
       "    }\n",
       "\n",
       "    .dataframe thead th {\n",
       "        text-align: right;\n",
       "    }\n",
       "</style>\n",
       "<table border=\"1\" class=\"dataframe\">\n",
       "  <thead>\n",
       "    <tr style=\"text-align: right;\">\n",
       "      <th></th>\n",
       "      <th>System</th>\n",
       "      <th>Area</th>\n",
       "      <th>Hour</th>\n",
       "      <th>Generation (MWh)</th>\n",
       "      <th>Total Imports (MWh)</th>\n",
       "      <th>Total Exports (MWh)</th>\n",
       "      <th>Net Exchange Between Regional Control Centers (MWh)</th>\n",
       "      <th>Estimated Demand by Energy Balance (MWh)</th>\n",
       "      <th>file_name</th>\n",
       "      <th>Operation Date</th>\n",
       "    </tr>\n",
       "  </thead>\n",
       "  <tbody>\n",
       "    <tr>\n",
       "      <th>66551</th>\n",
       "      <td>BCA</td>\n",
       "      <td>BCA</td>\n",
       "      <td>25</td>\n",
       "      <td>1266.74041</td>\n",
       "      <td>19.94526</td>\n",
       "      <td>33.50452</td>\n",
       "      <td>NaN</td>\n",
       "      <td>1253.18115</td>\n",
       "      <td>Demanda Real Balance_0_v3 Dia Operacion 2023-1...</td>\n",
       "      <td>2023-11-05</td>\n",
       "    </tr>\n",
       "    <tr>\n",
       "      <th>145175</th>\n",
       "      <td>BCA</td>\n",
       "      <td>BCA</td>\n",
       "      <td>25</td>\n",
       "      <td>1223.65880</td>\n",
       "      <td>112.93366</td>\n",
       "      <td>117.25632</td>\n",
       "      <td>NaN</td>\n",
       "      <td>1219.33614</td>\n",
       "      <td>Demanda Real Balance_0_v3 Dia Operacion 2024-1...</td>\n",
       "      <td>2024-11-03</td>\n",
       "    </tr>\n",
       "    <tr>\n",
       "      <th>262462</th>\n",
       "      <td>BCA</td>\n",
       "      <td>BCA</td>\n",
       "      <td>25</td>\n",
       "      <td>1266.74041</td>\n",
       "      <td>19.94526</td>\n",
       "      <td>33.50452</td>\n",
       "      <td>NaN</td>\n",
       "      <td>1253.18115</td>\n",
       "      <td>Demanda Real Balance_1_v3 Dia Operacion 2023-1...</td>\n",
       "      <td>2023-11-05</td>\n",
       "    </tr>\n",
       "    <tr>\n",
       "      <th>341086</th>\n",
       "      <td>BCA</td>\n",
       "      <td>BCA</td>\n",
       "      <td>25</td>\n",
       "      <td>1227.70877</td>\n",
       "      <td>112.93366</td>\n",
       "      <td>117.25632</td>\n",
       "      <td>NaN</td>\n",
       "      <td>1223.38611</td>\n",
       "      <td>Demanda Real Balance_1_v3 Dia Operacion 2024-1...</td>\n",
       "      <td>2024-11-03</td>\n",
       "    </tr>\n",
       "    <tr>\n",
       "      <th>449301</th>\n",
       "      <td>BCA</td>\n",
       "      <td>BCA</td>\n",
       "      <td>25</td>\n",
       "      <td>1266.74041</td>\n",
       "      <td>19.94526</td>\n",
       "      <td>33.50452</td>\n",
       "      <td>NaN</td>\n",
       "      <td>1253.18115</td>\n",
       "      <td>Demanda Real Balance_2_v3 Dia Operacion 2023-1...</td>\n",
       "      <td>2023-11-05</td>\n",
       "    </tr>\n",
       "    <tr>\n",
       "      <th>527925</th>\n",
       "      <td>BCA</td>\n",
       "      <td>BCA</td>\n",
       "      <td>25</td>\n",
       "      <td>1227.70877</td>\n",
       "      <td>112.93366</td>\n",
       "      <td>117.25632</td>\n",
       "      <td>NaN</td>\n",
       "      <td>1223.38611</td>\n",
       "      <td>Demanda Real Balance_2_v3 Dia Operacion 2024-1...</td>\n",
       "      <td>2024-11-03</td>\n",
       "    </tr>\n",
       "    <tr>\n",
       "      <th>624260</th>\n",
       "      <td>BCA</td>\n",
       "      <td>BCA</td>\n",
       "      <td>25</td>\n",
       "      <td>1266.74041</td>\n",
       "      <td>19.94526</td>\n",
       "      <td>33.50452</td>\n",
       "      <td>NaN</td>\n",
       "      <td>1253.18115</td>\n",
       "      <td>Demanda Real Balance_3_v3 Dia Operacion 2023-1...</td>\n",
       "      <td>2023-11-05</td>\n",
       "    </tr>\n",
       "    <tr>\n",
       "      <th>702884</th>\n",
       "      <td>BCA</td>\n",
       "      <td>BCA</td>\n",
       "      <td>25</td>\n",
       "      <td>1227.70877</td>\n",
       "      <td>112.93366</td>\n",
       "      <td>117.25632</td>\n",
       "      <td>NaN</td>\n",
       "      <td>1223.38611</td>\n",
       "      <td>Demanda Real Balance_3_v3 Dia Operacion 2024-1...</td>\n",
       "      <td>2024-11-03</td>\n",
       "    </tr>\n",
       "  </tbody>\n",
       "</table>\n",
       "</div>"
      ],
      "text/plain": [
       "       System Area  Hour  Generation (MWh)  Total Imports (MWh)  \\\n",
       "66551     BCA  BCA    25        1266.74041             19.94526   \n",
       "145175    BCA  BCA    25        1223.65880            112.93366   \n",
       "262462    BCA  BCA    25        1266.74041             19.94526   \n",
       "341086    BCA  BCA    25        1227.70877            112.93366   \n",
       "449301    BCA  BCA    25        1266.74041             19.94526   \n",
       "527925    BCA  BCA    25        1227.70877            112.93366   \n",
       "624260    BCA  BCA    25        1266.74041             19.94526   \n",
       "702884    BCA  BCA    25        1227.70877            112.93366   \n",
       "\n",
       "        Total Exports (MWh)  \\\n",
       "66551              33.50452   \n",
       "145175            117.25632   \n",
       "262462             33.50452   \n",
       "341086            117.25632   \n",
       "449301             33.50452   \n",
       "527925            117.25632   \n",
       "624260             33.50452   \n",
       "702884            117.25632   \n",
       "\n",
       "        Net Exchange Between Regional Control Centers (MWh)  \\\n",
       "66551                                                 NaN     \n",
       "145175                                                NaN     \n",
       "262462                                                NaN     \n",
       "341086                                                NaN     \n",
       "449301                                                NaN     \n",
       "527925                                                NaN     \n",
       "624260                                                NaN     \n",
       "702884                                                NaN     \n",
       "\n",
       "        Estimated Demand by Energy Balance (MWh)  \\\n",
       "66551                                 1253.18115   \n",
       "145175                                1219.33614   \n",
       "262462                                1253.18115   \n",
       "341086                                1223.38611   \n",
       "449301                                1253.18115   \n",
       "527925                                1223.38611   \n",
       "624260                                1253.18115   \n",
       "702884                                1223.38611   \n",
       "\n",
       "                                                file_name Operation Date  \n",
       "66551   Demanda Real Balance_0_v3 Dia Operacion 2023-1...     2023-11-05  \n",
       "145175  Demanda Real Balance_0_v3 Dia Operacion 2024-1...     2024-11-03  \n",
       "262462  Demanda Real Balance_1_v3 Dia Operacion 2023-1...     2023-11-05  \n",
       "341086  Demanda Real Balance_1_v3 Dia Operacion 2024-1...     2024-11-03  \n",
       "449301  Demanda Real Balance_2_v3 Dia Operacion 2023-1...     2023-11-05  \n",
       "527925  Demanda Real Balance_2_v3 Dia Operacion 2024-1...     2024-11-03  \n",
       "624260  Demanda Real Balance_3_v3 Dia Operacion 2023-1...     2023-11-05  \n",
       "702884  Demanda Real Balance_3_v3 Dia Operacion 2024-1...     2024-11-03  "
      ]
     },
     "execution_count": 49,
     "metadata": {},
     "output_type": "execute_result"
    }
   ],
   "source": [
    "full_df[full_df[\"Hour\"] == 25]"
   ]
  },
  {
   "cell_type": "code",
   "execution_count": 51,
   "id": "00a8d218-c3a8-4493-9fda-78fcb52c24fd",
   "metadata": {},
   "outputs": [
    {
     "data": {
      "text/plain": [
       "System                                                 8\n",
       "Area                                                   8\n",
       "Hour                                                   8\n",
       "Generation (MWh)                                       8\n",
       "Total Imports (MWh)                                    8\n",
       "Total Exports (MWh)                                    8\n",
       "Net Exchange Between Regional Control Centers (MWh)    0\n",
       "Estimated Demand by Energy Balance (MWh)               8\n",
       "file_name                                              8\n",
       "Operation Date                                         8\n",
       "dtype: int64"
      ]
     },
     "execution_count": 51,
     "metadata": {},
     "output_type": "execute_result"
    }
   ],
   "source": [
    "full_df[full_df[\"Hour\"] == 25].count()"
   ]
  },
  {
   "cell_type": "code",
   "execution_count": 79,
   "id": "4a6c2b8f-3e8b-4d6a-a19d-2ba35543c5da",
   "metadata": {},
   "outputs": [
    {
     "data": {
      "text/plain": [
       "array([24, 25], dtype=int64)"
      ]
     },
     "execution_count": 79,
     "metadata": {},
     "output_type": "execute_result"
    }
   ],
   "source": [
    "full_df.groupby(\"Operation Date\")[\"Hour\"].nunique().unique()"
   ]
  },
  {
   "cell_type": "code",
   "execution_count": 81,
   "id": "941a39e7-a682-433a-a1eb-ef041550ec0a",
   "metadata": {},
   "outputs": [
    {
     "data": {
      "text/plain": [
       "Index(['System', 'Area', 'Hour', 'Generation (MWh)', 'Total Imports (MWh)',\n",
       "       'Total Exports (MWh)',\n",
       "       'Net Exchange Between Regional Control Centers (MWh)',\n",
       "       'Estimated Demand by Energy Balance (MWh)', 'file_name',\n",
       "       'Operation Date', 'Datetime'],\n",
       "      dtype='object')"
      ]
     },
     "execution_count": 81,
     "metadata": {},
     "output_type": "execute_result"
    }
   ],
   "source": [
    "full_df.columns"
   ]
  },
  {
   "cell_type": "code",
   "execution_count": 83,
   "id": "918dba4a-64ed-4215-b87a-16a97baa9abb",
   "metadata": {},
   "outputs": [],
   "source": [
    "check_for_duplicates_col = ['System', 'Area', 'Hour', 'Generation (MWh)', 'Total Imports (MWh)',\n",
    "       'Total Exports (MWh)',\n",
    "       'Net Exchange Between Regional Control Centers (MWh)',\n",
    "       'Estimated Demand by Energy Balance (MWh)',\n",
    "       'Operation Date', 'Datetime']"
   ]
  },
  {
   "cell_type": "code",
   "execution_count": 84,
   "id": "6346ac17-d79c-4d1f-a74e-f6dbd78a695c",
   "metadata": {},
   "outputs": [],
   "source": [
    "full_df = full_df[~full_df.duplicated(subset=check_for_duplicates_col)]"
   ]
  },
  {
   "cell_type": "code",
   "execution_count": 76,
   "id": "2c073deb-9ecc-47d5-83c7-6ec1f19f756d",
   "metadata": {},
   "outputs": [],
   "source": [
    "full_df[\"Datetime\"] = full_df[\"Operation Date\"] + pd.to_timedelta(full_df[\"Hour\"], unit=\"h\")"
   ]
  },
  {
   "cell_type": "code",
   "execution_count": 85,
   "id": "fdff0e0d-205c-4a12-879a-40e7ba5ee6f2",
   "metadata": {},
   "outputs": [
    {
     "data": {
      "text/html": [
       "<div>\n",
       "<style scoped>\n",
       "    .dataframe tbody tr th:only-of-type {\n",
       "        vertical-align: middle;\n",
       "    }\n",
       "\n",
       "    .dataframe tbody tr th {\n",
       "        vertical-align: top;\n",
       "    }\n",
       "\n",
       "    .dataframe thead th {\n",
       "        text-align: right;\n",
       "    }\n",
       "</style>\n",
       "<table border=\"1\" class=\"dataframe\">\n",
       "  <thead>\n",
       "    <tr style=\"text-align: right;\">\n",
       "      <th></th>\n",
       "      <th>System</th>\n",
       "      <th>Area</th>\n",
       "      <th>Hour</th>\n",
       "      <th>Generation (MWh)</th>\n",
       "      <th>Total Imports (MWh)</th>\n",
       "      <th>Total Exports (MWh)</th>\n",
       "      <th>Net Exchange Between Regional Control Centers (MWh)</th>\n",
       "      <th>Estimated Demand by Energy Balance (MWh)</th>\n",
       "      <th>file_name</th>\n",
       "      <th>Operation Date</th>\n",
       "      <th>Datetime</th>\n",
       "    </tr>\n",
       "  </thead>\n",
       "  <tbody>\n",
       "    <tr>\n",
       "      <th>0</th>\n",
       "      <td>BCA</td>\n",
       "      <td>BCA</td>\n",
       "      <td>1</td>\n",
       "      <td>1036.03252</td>\n",
       "      <td>22.10174</td>\n",
       "      <td>20.97918</td>\n",
       "      <td>NaN</td>\n",
       "      <td>1037.15508</td>\n",
       "      <td>Demanda Real Balance_0_v3 Dia Operacion 2023-0...</td>\n",
       "      <td>2023-01-01</td>\n",
       "      <td>2023-01-01 01:00:00</td>\n",
       "    </tr>\n",
       "    <tr>\n",
       "      <th>1</th>\n",
       "      <td>BCA</td>\n",
       "      <td>BCA</td>\n",
       "      <td>2</td>\n",
       "      <td>1027.37909</td>\n",
       "      <td>43.79153</td>\n",
       "      <td>44.91889</td>\n",
       "      <td>NaN</td>\n",
       "      <td>1026.25173</td>\n",
       "      <td>Demanda Real Balance_0_v3 Dia Operacion 2023-0...</td>\n",
       "      <td>2023-01-01</td>\n",
       "      <td>2023-01-01 02:00:00</td>\n",
       "    </tr>\n",
       "    <tr>\n",
       "      <th>2</th>\n",
       "      <td>BCA</td>\n",
       "      <td>BCA</td>\n",
       "      <td>3</td>\n",
       "      <td>1042.72685</td>\n",
       "      <td>51.27296</td>\n",
       "      <td>46.05216</td>\n",
       "      <td>NaN</td>\n",
       "      <td>1047.94764</td>\n",
       "      <td>Demanda Real Balance_0_v3 Dia Operacion 2023-0...</td>\n",
       "      <td>2023-01-01</td>\n",
       "      <td>2023-01-01 03:00:00</td>\n",
       "    </tr>\n",
       "    <tr>\n",
       "      <th>3</th>\n",
       "      <td>BCA</td>\n",
       "      <td>BCA</td>\n",
       "      <td>4</td>\n",
       "      <td>1022.79761</td>\n",
       "      <td>55.63775</td>\n",
       "      <td>55.51087</td>\n",
       "      <td>NaN</td>\n",
       "      <td>1022.92449</td>\n",
       "      <td>Demanda Real Balance_0_v3 Dia Operacion 2023-0...</td>\n",
       "      <td>2023-01-01</td>\n",
       "      <td>2023-01-01 04:00:00</td>\n",
       "    </tr>\n",
       "    <tr>\n",
       "      <th>4</th>\n",
       "      <td>BCA</td>\n",
       "      <td>BCA</td>\n",
       "      <td>5</td>\n",
       "      <td>1001.48521</td>\n",
       "      <td>65.39402</td>\n",
       "      <td>70.70259</td>\n",
       "      <td>NaN</td>\n",
       "      <td>996.17664</td>\n",
       "      <td>Demanda Real Balance_0_v3 Dia Operacion 2023-0...</td>\n",
       "      <td>2023-01-01</td>\n",
       "      <td>2023-01-01 05:00:00</td>\n",
       "    </tr>\n",
       "  </tbody>\n",
       "</table>\n",
       "</div>"
      ],
      "text/plain": [
       "  System Area  Hour  Generation (MWh)  Total Imports (MWh)  \\\n",
       "0    BCA  BCA     1        1036.03252             22.10174   \n",
       "1    BCA  BCA     2        1027.37909             43.79153   \n",
       "2    BCA  BCA     3        1042.72685             51.27296   \n",
       "3    BCA  BCA     4        1022.79761             55.63775   \n",
       "4    BCA  BCA     5        1001.48521             65.39402   \n",
       "\n",
       "   Total Exports (MWh)  Net Exchange Between Regional Control Centers (MWh)  \\\n",
       "0             20.97918                                                NaN     \n",
       "1             44.91889                                                NaN     \n",
       "2             46.05216                                                NaN     \n",
       "3             55.51087                                                NaN     \n",
       "4             70.70259                                                NaN     \n",
       "\n",
       "   Estimated Demand by Energy Balance (MWh)  \\\n",
       "0                                1037.15508   \n",
       "1                                1026.25173   \n",
       "2                                1047.94764   \n",
       "3                                1022.92449   \n",
       "4                                 996.17664   \n",
       "\n",
       "                                           file_name Operation Date  \\\n",
       "0  Demanda Real Balance_0_v3 Dia Operacion 2023-0...     2023-01-01   \n",
       "1  Demanda Real Balance_0_v3 Dia Operacion 2023-0...     2023-01-01   \n",
       "2  Demanda Real Balance_0_v3 Dia Operacion 2023-0...     2023-01-01   \n",
       "3  Demanda Real Balance_0_v3 Dia Operacion 2023-0...     2023-01-01   \n",
       "4  Demanda Real Balance_0_v3 Dia Operacion 2023-0...     2023-01-01   \n",
       "\n",
       "             Datetime  \n",
       "0 2023-01-01 01:00:00  \n",
       "1 2023-01-01 02:00:00  \n",
       "2 2023-01-01 03:00:00  \n",
       "3 2023-01-01 04:00:00  \n",
       "4 2023-01-01 05:00:00  "
      ]
     },
     "execution_count": 85,
     "metadata": {},
     "output_type": "execute_result"
    }
   ],
   "source": [
    "full_df.head()"
   ]
  },
  {
   "cell_type": "code",
   "execution_count": 87,
   "id": "adc1389a-f974-4710-9e30-1f7ec0315334",
   "metadata": {},
   "outputs": [
    {
     "name": "stdout",
     "output_type": "stream",
     "text": [
      "<class 'pandas.core.frame.DataFrame'>\n",
      "Index: 437671 entries, 0 to 750035\n",
      "Data columns (total 11 columns):\n",
      " #   Column                                               Non-Null Count   Dtype         \n",
      "---  ------                                               --------------   -----         \n",
      " 0   System                                               437671 non-null  object        \n",
      " 1   Area                                                 437671 non-null  object        \n",
      " 2   Hour                                                 437671 non-null  int64         \n",
      " 3   Generation (MWh)                                     437671 non-null  float64       \n",
      " 4   Total Imports (MWh)                                  437671 non-null  float64       \n",
      " 5   Total Exports (MWh)                                  437671 non-null  float64       \n",
      " 6   Net Exchange Between Regional Control Centers (MWh)  357212 non-null  float64       \n",
      " 7   Estimated Demand by Energy Balance (MWh)             437671 non-null  float64       \n",
      " 8   file_name                                            437671 non-null  object        \n",
      " 9   Operation Date                                       437671 non-null  datetime64[ns]\n",
      " 10  Datetime                                             437671 non-null  datetime64[ns]\n",
      "dtypes: datetime64[ns](2), float64(5), int64(1), object(3)\n",
      "memory usage: 40.1+ MB\n"
     ]
    }
   ],
   "source": [
    "full_df.info()"
   ]
  },
  {
   "cell_type": "code",
   "execution_count": 89,
   "id": "aa996d15-9b41-4955-8af2-e21f109f89d2",
   "metadata": {},
   "outputs": [
    {
     "name": "stdout",
     "output_type": "stream",
     "text": [
      "<class 'pandas.core.frame.DataFrame'>\n",
      "RangeIndex: 437671 entries, 0 to 437670\n",
      "Data columns (total 13 columns):\n",
      " #   Column                                               Non-Null Count   Dtype         \n",
      "---  ------                                               --------------   -----         \n",
      " 0   level_0                                              437671 non-null  int64         \n",
      " 1   index                                                437671 non-null  int64         \n",
      " 2   System                                               437671 non-null  object        \n",
      " 3   Area                                                 437671 non-null  object        \n",
      " 4   Hour                                                 437671 non-null  int64         \n",
      " 5   Generation (MWh)                                     437671 non-null  float64       \n",
      " 6   Total Imports (MWh)                                  437671 non-null  float64       \n",
      " 7   Total Exports (MWh)                                  437671 non-null  float64       \n",
      " 8   Net Exchange Between Regional Control Centers (MWh)  357212 non-null  float64       \n",
      " 9   Estimated Demand by Energy Balance (MWh)             437671 non-null  float64       \n",
      " 10  file_name                                            437671 non-null  object        \n",
      " 11  Operation Date                                       437671 non-null  datetime64[ns]\n",
      " 12  Datetime                                             437671 non-null  datetime64[ns]\n",
      "dtypes: datetime64[ns](2), float64(5), int64(3), object(3)\n",
      "memory usage: 43.4+ MB\n"
     ]
    }
   ],
   "source": [
    "full_df.reset_index(inplace=True)\n",
    "full_df.info()"
   ]
  },
  {
   "cell_type": "code",
   "execution_count": 90,
   "id": "a4903026-4b8f-4936-aa68-d8a935982c29",
   "metadata": {},
   "outputs": [],
   "source": [
    "full_df.to_csv(\"./data/processed_data/consolidated_data.csv\")"
   ]
  },
  {
   "cell_type": "markdown",
   "id": "c68f186c-5e92-4038-a737-0e5111a9ed87",
   "metadata": {},
   "source": [
    "## 2. 🧹 Data Cleaning\n",
    "\n",
    "This section handles:\n",
    "- Missing values\n",
    "- Incorrect data types\n",
    "- Duplicates (if any)\n",
    "- Parsing datetime columns correctly\n",
    "\n",
    "We'll also inspect and clean column names for consistency."
   ]
  },
  {
   "cell_type": "markdown",
   "id": "851d814b-978e-4897-99b7-fa2f645b6e58",
   "metadata": {},
   "source": [
    "## 3. 🧮 Feature Engineering\n",
    "\n",
    "We'll create new columns to support analysis:\n",
    "- Hour, Day, Month, Weekday from timestamps\n",
    "- Weekend vs Weekday\n",
    "- Peak vs Off-Peak labeling (optional)\n",
    "\n",
    "This makes it easier to explore time-based demand patterns."
   ]
  },
  {
   "cell_type": "markdown",
   "id": "a47006d5-0b16-43f3-871b-c46486a46ee9",
   "metadata": {},
   "source": [
    "## 4. 📈 Exploratory Data Analysis (EDA)\n",
    "\n",
    "This is the core of our notebook, where we visualize and analyze:\n",
    "\n",
    "### 4.1. ⚡ Overall Demand Over Time\n",
    "- Total or average demand by hour/day\n",
    "- Line plot of demand trends\n",
    "\n",
    "### 4.2. 🕓 Hourly Patterns\n",
    "- Mean demand by hour of the day\n",
    "- Compare across months or seasons\n",
    "\n",
    "### 4.3. 📆 Weekly & Monthly Trends\n",
    "- Boxplots by day of week\n",
    "- Monthly demand averages\n",
    "\n",
    "### 4.4. 🌡️ Seasonal Patterns\n",
    "- Compare summer vs winter demand profiles\n",
    "- Heatmaps: hour vs day, hour vs month"
   ]
  },
  {
   "cell_type": "markdown",
   "id": "9acba580-2ac2-4e2c-9e61-b2961ef4c852",
   "metadata": {},
   "source": [
    "## 5. 🔍 Key Insights\n",
    "\n",
    "We summarize the most important insights from the EDA section:\n",
    "\n",
    "- Demand peaks consistently at 7–9 PM, especially in summer.\n",
    "- Weekends show significantly lower demand than weekdays (~X%).\n",
    "- Winter shows a morning demand spike not seen in other seasons.\n",
    "- [Other interesting insight here]"
   ]
  },
  {
   "cell_type": "markdown",
   "id": "55d81210-cdc2-46ca-92e1-51599e6dfe89",
   "metadata": {},
   "source": [
    "## 6. 📌 Conclusions & Next Steps\n",
    "\n",
    "This exploratory analysis revealed consistent temporal demand patterns in Mexico's grid that may support better forecasting and operations planning.\n",
    "\n",
    "### Next steps:\n",
    "- Break down demand by geographic region (if data available)\n",
    "- Correlate demand with temperature or weather patterns\n",
    "- Build a simple forecasting model using Prophet or scikit-learn"
   ]
  },
  {
   "cell_type": "markdown",
   "id": "4bb09717-bb0a-48fe-9eca-7f0b6bd83911",
   "metadata": {},
   "source": [
    "## 🧠 Appendix\n",
    "\n",
    "Any extra functions, alternative visualizations, failed experiments, or detailed technical notes can go here.\n",
    "\n",
    "This keeps the main notebook clean and reader-friendly."
   ]
  }
 ],
 "metadata": {
  "kernelspec": {
   "display_name": "Python 3 (ipykernel)",
   "language": "python",
   "name": "python3"
  },
  "language_info": {
   "codemirror_mode": {
    "name": "ipython",
    "version": 3
   },
   "file_extension": ".py",
   "mimetype": "text/x-python",
   "name": "python",
   "nbconvert_exporter": "python",
   "pygments_lexer": "ipython3",
   "version": "3.12.7"
  }
 },
 "nbformat": 4,
 "nbformat_minor": 5
}
