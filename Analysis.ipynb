{
 "cells": [
  {
   "cell_type": "markdown",
   "id": "f43a8ddb-9d6f-4ce9-ae2e-ab6efcd7d094",
   "metadata": {},
   "source": [
    "# 📊 Mexico Electricity Demand Analysis (2023–2025)\n",
    "\n",
    "**Author:** Diego Ramírez  \n",
    "**Date:** July 2025  \n",
    "**Description:**  \n",
    "This notebook explores hourly electricity demand patterns in Mexico using public data. We analyze temporal trends, visualize seasonality, and extract actionable insights useful for forecasting and grid planning.\n",
    "\n",
    "**Tools:** pandas, matplotlib, seaborn, numpy  \n",
    "**Data:** SVs downloaded from CENACE: https://www.cenace.gob.mx/Paginas/SIM/Reportes/EstimacionDemandaReal.aspx"
   ]
  },
  {
   "cell_type": "markdown",
   "id": "37b91f78-3560-4233-9561-49a35a485dd6",
   "metadata": {},
   "source": [
    "## 0. ⚙️ Imports"
   ]
  },
  {
   "cell_type": "code",
   "execution_count": 13,
   "id": "efb38cca-8c4e-4ae5-99ee-2a23b2054694",
   "metadata": {},
   "outputs": [],
   "source": [
    "import os\n",
    "import glob\n",
    "\n",
    "import numpy as np\n",
    "import pandas as pd\n",
    "import matplotlib.pyplot as plt\n",
    "import seaborn as sns\n",
    "from tqdm.notebook import tqdm"
   ]
  },
  {
   "cell_type": "markdown",
   "id": "bc4b3a7e-3570-4d4b-bbaa-cd9b20c8857d",
   "metadata": {},
   "source": [
    "## 1. 📥 Data Loading\n",
    "\n",
    "We begin by loading the full dataset from CSV files, parsing date columns, and checking the overall shape and structure."
   ]
  },
  {
   "cell_type": "code",
   "execution_count": 9,
   "id": "be403a26-29fd-4c9e-96c5-07b543a2566b",
   "metadata": {},
   "outputs": [
    {
     "data": {
      "text/html": [
       "<div>\n",
       "<style scoped>\n",
       "    .dataframe tbody tr th:only-of-type {\n",
       "        vertical-align: middle;\n",
       "    }\n",
       "\n",
       "    .dataframe tbody tr th {\n",
       "        vertical-align: top;\n",
       "    }\n",
       "\n",
       "    .dataframe thead th {\n",
       "        text-align: right;\n",
       "    }\n",
       "</style>\n",
       "<table border=\"1\" class=\"dataframe\">\n",
       "  <thead>\n",
       "    <tr style=\"text-align: right;\">\n",
       "      <th></th>\n",
       "      <th>Sistema</th>\n",
       "      <th>Area</th>\n",
       "      <th>Hora</th>\n",
       "      <th>Generacion (MWh)</th>\n",
       "      <th>Importacion Total (MWh)</th>\n",
       "      <th>Exportacion Total (MWh)</th>\n",
       "      <th>Intercambio neto entre Gerencias (MWh)</th>\n",
       "      <th>Estimacion de Demanda por Balance (MWh)</th>\n",
       "    </tr>\n",
       "  </thead>\n",
       "  <tbody>\n",
       "    <tr>\n",
       "      <th>0</th>\n",
       "      <td>BCA</td>\n",
       "      <td>BCA</td>\n",
       "      <td>1</td>\n",
       "      <td>1036.03252</td>\n",
       "      <td>22.10174</td>\n",
       "      <td>20.97918</td>\n",
       "      <td>---</td>\n",
       "      <td>1037.15508</td>\n",
       "    </tr>\n",
       "    <tr>\n",
       "      <th>1</th>\n",
       "      <td>BCA</td>\n",
       "      <td>BCA</td>\n",
       "      <td>2</td>\n",
       "      <td>1027.37909</td>\n",
       "      <td>43.79153</td>\n",
       "      <td>44.91889</td>\n",
       "      <td>---</td>\n",
       "      <td>1026.25173</td>\n",
       "    </tr>\n",
       "    <tr>\n",
       "      <th>2</th>\n",
       "      <td>BCA</td>\n",
       "      <td>BCA</td>\n",
       "      <td>3</td>\n",
       "      <td>1042.72685</td>\n",
       "      <td>51.27296</td>\n",
       "      <td>46.05216</td>\n",
       "      <td>---</td>\n",
       "      <td>1047.94764</td>\n",
       "    </tr>\n",
       "    <tr>\n",
       "      <th>3</th>\n",
       "      <td>BCA</td>\n",
       "      <td>BCA</td>\n",
       "      <td>4</td>\n",
       "      <td>1022.79761</td>\n",
       "      <td>55.63775</td>\n",
       "      <td>55.51087</td>\n",
       "      <td>---</td>\n",
       "      <td>1022.92449</td>\n",
       "    </tr>\n",
       "    <tr>\n",
       "      <th>4</th>\n",
       "      <td>BCA</td>\n",
       "      <td>BCA</td>\n",
       "      <td>5</td>\n",
       "      <td>1001.48521</td>\n",
       "      <td>65.39402</td>\n",
       "      <td>70.70259</td>\n",
       "      <td>---</td>\n",
       "      <td>996.17664</td>\n",
       "    </tr>\n",
       "  </tbody>\n",
       "</table>\n",
       "</div>"
      ],
      "text/plain": [
       "  Sistema  Area   Hora   Generacion (MWh)   Importacion Total (MWh)  \\\n",
       "0     BCA   BCA      1         1036.03252                  22.10174   \n",
       "1     BCA   BCA      2         1027.37909                  43.79153   \n",
       "2     BCA   BCA      3         1042.72685                  51.27296   \n",
       "3     BCA   BCA      4         1022.79761                  55.63775   \n",
       "4     BCA   BCA      5         1001.48521                  65.39402   \n",
       "\n",
       "    Exportacion Total (MWh)  Intercambio neto entre Gerencias (MWh)  \\\n",
       "0                  20.97918                                     ---   \n",
       "1                  44.91889                                     ---   \n",
       "2                  46.05216                                     ---   \n",
       "3                  55.51087                                     ---   \n",
       "4                  70.70259                                     ---   \n",
       "\n",
       "    Estimacion de Demanda por Balance (MWh)   \n",
       "0                                 1037.15508  \n",
       "1                                 1026.25173  \n",
       "2                                 1047.94764  \n",
       "3                                 1022.92449  \n",
       "4                                  996.17664  "
      ]
     },
     "execution_count": 9,
     "metadata": {},
     "output_type": "execute_result"
    }
   ],
   "source": [
    "# Files have 8 rows at the top that we must skip, since the dataset starts at row 9.\n",
    "\n",
    "df_sample = pd.read_csv(\"./data/raw_data/Demanda Real Balance_0_v3 Dia Operacion 2023-01-01 v2023 01 15_12 25 01.csv\", skiprows=8)\n",
    "df_sample.head()"
   ]
  },
  {
   "cell_type": "code",
   "execution_count": 12,
   "id": "f86b33a3-cfce-48b1-99b3-b3b0fe5b7d0e",
   "metadata": {},
   "outputs": [
    {
     "name": "stdout",
     "output_type": "stream",
     "text": [
      "<class 'pandas.core.frame.DataFrame'>\n",
      "RangeIndex: 216 entries, 0 to 215\n",
      "Data columns (total 8 columns):\n",
      " #   Column                                     Non-Null Count  Dtype  \n",
      "---  ------                                     --------------  -----  \n",
      " 0   Sistema                                    216 non-null    object \n",
      " 1    Area                                      216 non-null    object \n",
      " 2    Hora                                      216 non-null    int64  \n",
      " 3    Generacion (MWh)                          216 non-null    float64\n",
      " 4    Importacion Total (MWh)                   216 non-null    float64\n",
      " 5    Exportacion Total (MWh)                   216 non-null    float64\n",
      " 6    Intercambio neto entre Gerencias (MWh)    216 non-null    object \n",
      " 7    Estimacion de Demanda por Balance (MWh)   216 non-null    float64\n",
      "dtypes: float64(4), int64(1), object(3)\n",
      "memory usage: 13.6+ KB\n"
     ]
    }
   ],
   "source": [
    "df_sample.info()"
   ]
  },
  {
   "cell_type": "markdown",
   "id": "f61a6b19-1f00-4d73-9c89-2ba4fa4e59b7",
   "metadata": {},
   "source": [
    "Data is clean and structured, but there are some initial concerns to consider for when the full data is consolidated into one big dataset:\n",
    "* No date column, will probably have to add it via the file name.\n",
    "* Change \"---\" to np.nan in Intercambio neto entre Gerencias"
   ]
  },
  {
   "cell_type": "code",
   "execution_count": 14,
   "id": "fcbe6c7f-507f-476e-b968-d268a92a07af",
   "metadata": {},
   "outputs": [
    {
     "name": "stdout",
     "output_type": "stream",
     "text": [
      "Found 3548 CSV files\n"
     ]
    }
   ],
   "source": [
    "DATA_FOLDER = \"./data/raw_data/\"\n",
    "\n",
    "csv_files = glob.glob(os.path.join(DATA_FOLDER, \"*.csv\"))\n",
    "print(f\"Found {len(csv_files)} CSV files\")"
   ]
  },
  {
   "cell_type": "code",
   "execution_count": 15,
   "id": "90ae57bb-7959-4760-97eb-1eab2b103725",
   "metadata": {},
   "outputs": [
    {
     "data": {
      "text/html": [
       "<div>\n",
       "<style scoped>\n",
       "    .dataframe tbody tr th:only-of-type {\n",
       "        vertical-align: middle;\n",
       "    }\n",
       "\n",
       "    .dataframe tbody tr th {\n",
       "        vertical-align: top;\n",
       "    }\n",
       "\n",
       "    .dataframe thead th {\n",
       "        text-align: right;\n",
       "    }\n",
       "</style>\n",
       "<table border=\"1\" class=\"dataframe\">\n",
       "  <thead>\n",
       "    <tr style=\"text-align: right;\">\n",
       "      <th></th>\n",
       "      <th>Sistema</th>\n",
       "      <th>Area</th>\n",
       "      <th>Hora</th>\n",
       "      <th>Generacion (MWh)</th>\n",
       "      <th>Importacion Total (MWh)</th>\n",
       "      <th>Exportacion Total (MWh)</th>\n",
       "      <th>Intercambio neto entre Gerencias (MWh)</th>\n",
       "      <th>Estimacion de Demanda por Balance (MWh)</th>\n",
       "    </tr>\n",
       "  </thead>\n",
       "  <tbody>\n",
       "    <tr>\n",
       "      <th>0</th>\n",
       "      <td>BCA</td>\n",
       "      <td>BCA</td>\n",
       "      <td>1</td>\n",
       "      <td>1036.03252</td>\n",
       "      <td>22.10174</td>\n",
       "      <td>20.97918</td>\n",
       "      <td>---</td>\n",
       "      <td>1037.15508</td>\n",
       "    </tr>\n",
       "    <tr>\n",
       "      <th>1</th>\n",
       "      <td>BCA</td>\n",
       "      <td>BCA</td>\n",
       "      <td>2</td>\n",
       "      <td>1027.37909</td>\n",
       "      <td>43.79153</td>\n",
       "      <td>44.91889</td>\n",
       "      <td>---</td>\n",
       "      <td>1026.25173</td>\n",
       "    </tr>\n",
       "    <tr>\n",
       "      <th>2</th>\n",
       "      <td>BCA</td>\n",
       "      <td>BCA</td>\n",
       "      <td>3</td>\n",
       "      <td>1042.72685</td>\n",
       "      <td>51.27296</td>\n",
       "      <td>46.05216</td>\n",
       "      <td>---</td>\n",
       "      <td>1047.94764</td>\n",
       "    </tr>\n",
       "    <tr>\n",
       "      <th>3</th>\n",
       "      <td>BCA</td>\n",
       "      <td>BCA</td>\n",
       "      <td>4</td>\n",
       "      <td>1022.79761</td>\n",
       "      <td>55.63775</td>\n",
       "      <td>55.51087</td>\n",
       "      <td>---</td>\n",
       "      <td>1022.92449</td>\n",
       "    </tr>\n",
       "    <tr>\n",
       "      <th>4</th>\n",
       "      <td>BCA</td>\n",
       "      <td>BCA</td>\n",
       "      <td>5</td>\n",
       "      <td>1001.48521</td>\n",
       "      <td>65.39402</td>\n",
       "      <td>70.70259</td>\n",
       "      <td>---</td>\n",
       "      <td>996.17664</td>\n",
       "    </tr>\n",
       "  </tbody>\n",
       "</table>\n",
       "</div>"
      ],
      "text/plain": [
       "  Sistema  Area   Hora   Generacion (MWh)   Importacion Total (MWh)  \\\n",
       "0     BCA   BCA      1         1036.03252                  22.10174   \n",
       "1     BCA   BCA      2         1027.37909                  43.79153   \n",
       "2     BCA   BCA      3         1042.72685                  51.27296   \n",
       "3     BCA   BCA      4         1022.79761                  55.63775   \n",
       "4     BCA   BCA      5         1001.48521                  65.39402   \n",
       "\n",
       "    Exportacion Total (MWh)  Intercambio neto entre Gerencias (MWh)  \\\n",
       "0                  20.97918                                     ---   \n",
       "1                  44.91889                                     ---   \n",
       "2                  46.05216                                     ---   \n",
       "3                  55.51087                                     ---   \n",
       "4                  70.70259                                     ---   \n",
       "\n",
       "    Estimacion de Demanda por Balance (MWh)   \n",
       "0                                 1037.15508  \n",
       "1                                 1026.25173  \n",
       "2                                 1047.94764  \n",
       "3                                 1022.92449  \n",
       "4                                  996.17664  "
      ]
     },
     "execution_count": 15,
     "metadata": {},
     "output_type": "execute_result"
    }
   ],
   "source": [
    "df_sample = pd.read_csv(csv_files[0], skiprows=8)\n",
    "df_sample.head()"
   ]
  },
  {
   "cell_type": "code",
   "execution_count": 16,
   "id": "2bde0270-595a-4985-88b0-d681ed56aea3",
   "metadata": {},
   "outputs": [
    {
     "data": {
      "application/vnd.jupyter.widget-view+json": {
       "model_id": "af60074095ce4fff8d31aae00ce1e950",
       "version_major": 2,
       "version_minor": 0
      },
      "text/plain": [
       "Reading CSVs:   0%|          | 0/3548 [00:00<?, ?it/s]"
      ]
     },
     "metadata": {},
     "output_type": "display_data"
    }
   ],
   "source": [
    "def add_file_name(path: str) -> pd.DataFrame:\n",
    "    # Reads the csv file from the path and adds a coulumn with the file name.\n",
    "    df = pd.read_csv(path, skiprows=8)\n",
    "    df[\"file_name\"] = path\n",
    "\n",
    "    return df\n",
    "\n",
    "all_dataframes = []\n",
    "\n",
    "for file in tqdm(csv_files, desc=\"Reading CSVs\"):\n",
    "    try:\n",
    "        df = add_file_name(file)\n",
    "        all_dataframes.append(df)\n",
    "    except Exception as e:\n",
    "        print(f\"Failed to read {file}: {e}\")"
   ]
  },
  {
   "cell_type": "code",
   "execution_count": 19,
   "id": "af5a1356-d32b-423f-be14-017eae76fceb",
   "metadata": {},
   "outputs": [
    {
     "name": "stdout",
     "output_type": "stream",
     "text": [
      "<class 'pandas.core.frame.DataFrame'>\n",
      "RangeIndex: 766364 entries, 0 to 766363\n",
      "Data columns (total 9 columns):\n",
      " #   Column                                     Non-Null Count   Dtype  \n",
      "---  ------                                     --------------   -----  \n",
      " 0   Sistema                                    766364 non-null  object \n",
      " 1    Area                                      766364 non-null  object \n",
      " 2    Hora                                      766364 non-null  int64  \n",
      " 3    Generacion (MWh)                          766364 non-null  float64\n",
      " 4    Importacion Total (MWh)                   766364 non-null  float64\n",
      " 5    Exportacion Total (MWh)                   766364 non-null  float64\n",
      " 6    Intercambio neto entre Gerencias (MWh)    766364 non-null  object \n",
      " 7    Estimacion de Demanda por Balance (MWh)   766364 non-null  float64\n",
      " 8   file_name                                  766364 non-null  object \n",
      "dtypes: float64(4), int64(1), object(4)\n",
      "memory usage: 52.6+ MB\n"
     ]
    }
   ],
   "source": [
    "full_df = pd.concat(all_dataframes, ignore_index=True)\n",
    "full_df.info()"
   ]
  },
  {
   "cell_type": "code",
   "execution_count": 23,
   "id": "2d8ba3ba-db76-453e-9204-aecf106bcb06",
   "metadata": {},
   "outputs": [
    {
     "data": {
      "text/plain": [
       "Index(['Sistema', ' Area', ' Hora', ' Generacion (MWh)',\n",
       "       ' Importacion Total (MWh)', ' Exportacion Total (MWh)',\n",
       "       ' Intercambio neto entre Gerencias (MWh)',\n",
       "       ' Estimacion de Demanda por Balance (MWh) ', 'file_name'],\n",
       "      dtype='object')"
      ]
     },
     "execution_count": 23,
     "metadata": {},
     "output_type": "execute_result"
    }
   ],
   "source": [
    "full_df.columns"
   ]
  },
  {
   "cell_type": "code",
   "execution_count": 24,
   "id": "83c151c6-9452-4d1b-ae7f-3b579408904b",
   "metadata": {},
   "outputs": [
    {
     "data": {
      "text/html": [
       "<div>\n",
       "<style scoped>\n",
       "    .dataframe tbody tr th:only-of-type {\n",
       "        vertical-align: middle;\n",
       "    }\n",
       "\n",
       "    .dataframe tbody tr th {\n",
       "        vertical-align: top;\n",
       "    }\n",
       "\n",
       "    .dataframe thead th {\n",
       "        text-align: right;\n",
       "    }\n",
       "</style>\n",
       "<table border=\"1\" class=\"dataframe\">\n",
       "  <thead>\n",
       "    <tr style=\"text-align: right;\">\n",
       "      <th></th>\n",
       "      <th>Sistema</th>\n",
       "      <th>Area</th>\n",
       "      <th>Hora</th>\n",
       "      <th>Generacion (MWh)</th>\n",
       "      <th>Importacion Total (MWh)</th>\n",
       "      <th>Exportacion Total (MWh)</th>\n",
       "      <th>Intercambio neto entre Gerencias (MWh)</th>\n",
       "      <th>Estimacion de Demanda por Balance (MWh)</th>\n",
       "      <th>file_name</th>\n",
       "    </tr>\n",
       "  </thead>\n",
       "  <tbody>\n",
       "    <tr>\n",
       "      <th>0</th>\n",
       "      <td>BCA</td>\n",
       "      <td>BCA</td>\n",
       "      <td>1</td>\n",
       "      <td>1036.03252</td>\n",
       "      <td>22.10174</td>\n",
       "      <td>20.97918</td>\n",
       "      <td>---</td>\n",
       "      <td>1037.15508</td>\n",
       "      <td>./data/raw_data\\Demanda Real Balance_0_v3 Dia ...</td>\n",
       "    </tr>\n",
       "    <tr>\n",
       "      <th>1</th>\n",
       "      <td>BCA</td>\n",
       "      <td>BCA</td>\n",
       "      <td>2</td>\n",
       "      <td>1027.37909</td>\n",
       "      <td>43.79153</td>\n",
       "      <td>44.91889</td>\n",
       "      <td>---</td>\n",
       "      <td>1026.25173</td>\n",
       "      <td>./data/raw_data\\Demanda Real Balance_0_v3 Dia ...</td>\n",
       "    </tr>\n",
       "    <tr>\n",
       "      <th>2</th>\n",
       "      <td>BCA</td>\n",
       "      <td>BCA</td>\n",
       "      <td>3</td>\n",
       "      <td>1042.72685</td>\n",
       "      <td>51.27296</td>\n",
       "      <td>46.05216</td>\n",
       "      <td>---</td>\n",
       "      <td>1047.94764</td>\n",
       "      <td>./data/raw_data\\Demanda Real Balance_0_v3 Dia ...</td>\n",
       "    </tr>\n",
       "    <tr>\n",
       "      <th>3</th>\n",
       "      <td>BCA</td>\n",
       "      <td>BCA</td>\n",
       "      <td>4</td>\n",
       "      <td>1022.79761</td>\n",
       "      <td>55.63775</td>\n",
       "      <td>55.51087</td>\n",
       "      <td>---</td>\n",
       "      <td>1022.92449</td>\n",
       "      <td>./data/raw_data\\Demanda Real Balance_0_v3 Dia ...</td>\n",
       "    </tr>\n",
       "    <tr>\n",
       "      <th>4</th>\n",
       "      <td>BCA</td>\n",
       "      <td>BCA</td>\n",
       "      <td>5</td>\n",
       "      <td>1001.48521</td>\n",
       "      <td>65.39402</td>\n",
       "      <td>70.70259</td>\n",
       "      <td>---</td>\n",
       "      <td>996.17664</td>\n",
       "      <td>./data/raw_data\\Demanda Real Balance_0_v3 Dia ...</td>\n",
       "    </tr>\n",
       "  </tbody>\n",
       "</table>\n",
       "</div>"
      ],
      "text/plain": [
       "  Sistema  Area   Hora   Generacion (MWh)   Importacion Total (MWh)  \\\n",
       "0     BCA   BCA      1         1036.03252                  22.10174   \n",
       "1     BCA   BCA      2         1027.37909                  43.79153   \n",
       "2     BCA   BCA      3         1042.72685                  51.27296   \n",
       "3     BCA   BCA      4         1022.79761                  55.63775   \n",
       "4     BCA   BCA      5         1001.48521                  65.39402   \n",
       "\n",
       "    Exportacion Total (MWh)  Intercambio neto entre Gerencias (MWh)  \\\n",
       "0                  20.97918                                     ---   \n",
       "1                  44.91889                                     ---   \n",
       "2                  46.05216                                     ---   \n",
       "3                  55.51087                                     ---   \n",
       "4                  70.70259                                     ---   \n",
       "\n",
       "    Estimacion de Demanda por Balance (MWh)   \\\n",
       "0                                 1037.15508   \n",
       "1                                 1026.25173   \n",
       "2                                 1047.94764   \n",
       "3                                 1022.92449   \n",
       "4                                  996.17664   \n",
       "\n",
       "                                           file_name  \n",
       "0  ./data/raw_data\\Demanda Real Balance_0_v3 Dia ...  \n",
       "1  ./data/raw_data\\Demanda Real Balance_0_v3 Dia ...  \n",
       "2  ./data/raw_data\\Demanda Real Balance_0_v3 Dia ...  \n",
       "3  ./data/raw_data\\Demanda Real Balance_0_v3 Dia ...  \n",
       "4  ./data/raw_data\\Demanda Real Balance_0_v3 Dia ...  "
      ]
     },
     "execution_count": 24,
     "metadata": {},
     "output_type": "execute_result"
    }
   ],
   "source": [
    "full_df.head()"
   ]
  },
  {
   "cell_type": "code",
   "execution_count": null,
   "id": "92315697-d11b-47db-b282-7e733feb3bb7",
   "metadata": {},
   "outputs": [],
   "source": [
    "full_df.to_csv(\"./data/consolidated_data\", index=False)"
   ]
  },
  {
   "cell_type": "markdown",
   "id": "c68f186c-5e92-4038-a737-0e5111a9ed87",
   "metadata": {},
   "source": [
    "## 2. 🧹 Data Cleaning\n",
    "\n",
    "This section handles:\n",
    "- Missing values\n",
    "- Incorrect data types\n",
    "- Duplicates (if any)\n",
    "- Parsing datetime columns correctly\n",
    "\n",
    "We'll also inspect and clean column names for consistency."
   ]
  },
  {
   "cell_type": "markdown",
   "id": "851d814b-978e-4897-99b7-fa2f645b6e58",
   "metadata": {},
   "source": [
    "## 3. 🧮 Feature Engineering\n",
    "\n",
    "We'll create new columns to support analysis:\n",
    "- Hour, Day, Month, Weekday from timestamps\n",
    "- Weekend vs Weekday\n",
    "- Peak vs Off-Peak labeling (optional)\n",
    "\n",
    "This makes it easier to explore time-based demand patterns."
   ]
  },
  {
   "cell_type": "markdown",
   "id": "a47006d5-0b16-43f3-871b-c46486a46ee9",
   "metadata": {},
   "source": [
    "## 4. 📈 Exploratory Data Analysis (EDA)\n",
    "\n",
    "This is the core of our notebook, where we visualize and analyze:\n",
    "\n",
    "### 4.1. ⚡ Overall Demand Over Time\n",
    "- Total or average demand by hour/day\n",
    "- Line plot of demand trends\n",
    "\n",
    "### 4.2. 🕓 Hourly Patterns\n",
    "- Mean demand by hour of the day\n",
    "- Compare across months or seasons\n",
    "\n",
    "### 4.3. 📆 Weekly & Monthly Trends\n",
    "- Boxplots by day of week\n",
    "- Monthly demand averages\n",
    "\n",
    "### 4.4. 🌡️ Seasonal Patterns\n",
    "- Compare summer vs winter demand profiles\n",
    "- Heatmaps: hour vs day, hour vs month"
   ]
  },
  {
   "cell_type": "markdown",
   "id": "9acba580-2ac2-4e2c-9e61-b2961ef4c852",
   "metadata": {},
   "source": [
    "## 5. 🔍 Key Insights\n",
    "\n",
    "We summarize the most important insights from the EDA section:\n",
    "\n",
    "- Demand peaks consistently at 7–9 PM, especially in summer.\n",
    "- Weekends show significantly lower demand than weekdays (~X%).\n",
    "- Winter shows a morning demand spike not seen in other seasons.\n",
    "- [Other interesting insight here]"
   ]
  },
  {
   "cell_type": "markdown",
   "id": "55d81210-cdc2-46ca-92e1-51599e6dfe89",
   "metadata": {},
   "source": [
    "## 6. 📌 Conclusions & Next Steps\n",
    "\n",
    "This exploratory analysis revealed consistent temporal demand patterns in Mexico's grid that may support better forecasting and operations planning.\n",
    "\n",
    "### Next steps:\n",
    "- Break down demand by geographic region (if data available)\n",
    "- Correlate demand with temperature or weather patterns\n",
    "- Build a simple forecasting model using Prophet or scikit-learn"
   ]
  },
  {
   "cell_type": "markdown",
   "id": "4bb09717-bb0a-48fe-9eca-7f0b6bd83911",
   "metadata": {},
   "source": [
    "## 🧠 Appendix\n",
    "\n",
    "Any extra functions, alternative visualizations, failed experiments, or detailed technical notes can go here.\n",
    "\n",
    "This keeps the main notebook clean and reader-friendly."
   ]
  }
 ],
 "metadata": {
  "kernelspec": {
   "display_name": "Python 3 (ipykernel)",
   "language": "python",
   "name": "python3"
  },
  "language_info": {
   "codemirror_mode": {
    "name": "ipython",
    "version": 3
   },
   "file_extension": ".py",
   "mimetype": "text/x-python",
   "name": "python",
   "nbconvert_exporter": "python",
   "pygments_lexer": "ipython3",
   "version": "3.12.7"
  }
 },
 "nbformat": 4,
 "nbformat_minor": 5
}
